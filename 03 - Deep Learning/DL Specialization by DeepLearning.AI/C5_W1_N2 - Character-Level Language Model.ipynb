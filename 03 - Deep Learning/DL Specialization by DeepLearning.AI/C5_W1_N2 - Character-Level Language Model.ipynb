{
 "cells": [
  {
   "cell_type": "code",
   "execution_count": 1,
   "id": "12237244-8c7d-4a4a-932f-528325224b6f",
   "metadata": {},
   "outputs": [],
   "source": [
    "import numpy as np\n",
    "import copy\n",
    "import matplotlib.pyplot as plt"
   ]
  },
  {
   "cell_type": "markdown",
   "id": "91132352-b620-4383-b9d9-c5ab507594c5",
   "metadata": {},
   "source": [
    "# Dataset"
   ]
  },
  {
   "cell_type": "code",
   "execution_count": 2,
   "id": "c7579543-8410-4096-a245-320e7c432590",
   "metadata": {},
   "outputs": [
    {
     "data": {
      "text/plain": [
       "'aachenosaurus\\naardonyx\\nabdallahsaurus\\nabelisaurus\\nabrictosaurus\\nabrosaurus\\nabydosaurus\\nacanthopholis\\nachelousaurus\\nacheroraptor\\nachillesaurus\\nachillobator\\nacristavus\\nacrocanthosaurus\\nacrotholus\\nactiosaurus\\nadamantisaurus\\nadasaurus\\nadelolophus\\nadeopapposaurus\\naegyptosaurus\\naeolosaurus\\naepisaurus\\naepyornithomimus\\naerosteon\\naetonyxafromimus\\nafrovenator\\nagathaumas\\naggiosaurus\\nagilisaurus\\nagnosphitys\\nagrosaurus\\nagujaceratops\\nagustinia\\nahshislepelta\\nairakoraptor\\najancingenia\\najkaceratops\\nalamosaurus\\nalaskacephale\\nalbalophosaurus\\nalbertaceratops\\nalbertadromeus\\nalbertavenator\\nalbertonykus\\nalbertosaurus\\nalbinykus\\nalbisaurus\\nalcovasaurus\\nalectrosaurus\\naletopelta\\nalgoasaurus\\nalioramus\\naliwalia\\nallosaurus\\nalmas\\nalnashetri\\nalocodon\\naltirhinus\\naltispinax\\nalvarezsaurus\\nalwalkeria\\nalxasaurus\\namargasaurus\\namargastegos\\namargatitanis\\namazonsaurus\\nammosaurus\\nampelosaurus\\namphicoelias\\namphicoelicaudia\\namphisaurus\\namtocephale\\namtosaurus\\namurosaurus\\namygdalodon\\nanabisetia\\nanasazisaurus\\nanatosaurus\\nanatotitan'"
      ]
     },
     "execution_count": 2,
     "metadata": {},
     "output_type": "execute_result"
    }
   ],
   "source": [
    "raw_data = open(\"dinos.txt\", \"r\").read().lower()\n",
    "raw_data[:1000]"
   ]
  },
  {
   "cell_type": "code",
   "execution_count": 3,
   "id": "2f5a8541-6da6-4fdf-a17d-3c569e4fb9f2",
   "metadata": {},
   "outputs": [
    {
     "name": "stdout",
     "output_type": "stream",
     "text": [
      "['aachenosaurus', 'aardonyx', 'abdallahsaurus', 'abelisaurus', 'abrictosaurus', 'abrosaurus', 'abydosaurus', 'acanthopholis', 'achelousaurus', 'acheroraptor', 'achillesaurus', 'achillobator', 'acristavus', 'acrocanthosaurus', 'acrotholus', 'actiosaurus', 'adamantisaurus', 'adasaurus', 'adelolophus', 'adeopapposaurus', 'aegyptosaurus', 'aeolosaurus', 'aepisaurus', 'aepyornithomimus', 'aerosteon', 'aetonyxafromimus', 'afrovenator', 'agathaumas', 'aggiosaurus', 'agilisaurus', 'agnosphitys', 'agrosaurus', 'agujaceratops', 'agustinia', 'ahshislepelta', 'airakoraptor', 'ajancingenia', 'ajkaceratops', 'alamosaurus', 'alaskacephale', 'albalophosaurus', 'albertaceratops', 'albertadromeus', 'albertavenator', 'albertonykus', 'albertosaurus', 'albinykus', 'albisaurus', 'alcovasaurus', 'alectrosaurus', 'aletopelta', 'algoasaurus', 'alioramus', 'aliwalia', 'allosaurus', 'almas', 'alnashetri', 'alocodon', 'altirhinus', 'altispinax', 'alvarezsaurus', 'alwalkeria', 'alxasaurus', 'amargasaurus', 'amargastegos', 'amargatitanis', 'amazonsaurus', 'ammosaurus', 'ampelosaurus', 'amphicoelias', 'amphicoelicaudia', 'amphisaurus', 'amtocephale', 'amtosaurus', 'amurosaurus', 'amygdalodon', 'anabisetia', 'anasazisaurus', 'anatosaurus', 'anatotitan', 'anchiceratops', 'anchiornis', 'anchisaurus', 'andesaurus', 'andhrasaurus', 'angaturama', 'angloposeidon', 'angolatitan', 'angulomastacator', 'aniksosaurus', 'animantarx', 'ankistrodon', 'ankylosaurus', 'anodontosaurus', 'anoplosaurus', 'anserimimus', 'antarctopelta', 'antarctosaurus', 'antetonitrus', 'anthodon']\n",
      "\n",
      "1536\n"
     ]
    }
   ],
   "source": [
    "list_data = raw_data.split(\"\\n\")\n",
    "print(list_data[:100])\n",
    "print()\n",
    "print(len(list_data))"
   ]
  },
  {
   "cell_type": "code",
   "execution_count": 4,
   "id": "036d012e-2657-4b83-ba67-e95a8a7dfbac",
   "metadata": {
    "scrolled": true
   },
   "outputs": [
    {
     "name": "stdout",
     "output_type": "stream",
     "text": [
      "['\\n', 'a', 'b', 'c', 'd', 'e', 'f', 'g', 'h', 'i', 'j', 'k', 'l', 'm', 'n', 'o', 'p', 'q', 'r', 's', 't', 'u', 'v', 'w', 'x', 'y', 'z']\n",
      "\n",
      "27\n"
     ]
    }
   ],
   "source": [
    "chars = sorted(list(set(raw_data)))\n",
    "vocab_size = len(chars)\n",
    "print(chars)\n",
    "print()\n",
    "print(vocab_size)"
   ]
  },
  {
   "cell_type": "markdown",
   "id": "980e1d81-7c9c-4a30-93d5-d60162eb3c0b",
   "metadata": {},
   "source": [
    "* The characters are a-z (26 characters) plus the \"\\n\" (or newline character).\n",
    "* In this assignment, the newline character \"\\n\" plays a role similar to the `<EOS>` (or \"End of sentence\") token discussed in lecture.  \n",
    "    - Here, \"\\n\" indicates the end of the dinosaur name rather than the end of a sentence. "
   ]
  },
  {
   "cell_type": "code",
   "execution_count": 5,
   "id": "2f60afcc-1ade-47fa-a8ca-44de3cb0e346",
   "metadata": {},
   "outputs": [
    {
     "name": "stdout",
     "output_type": "stream",
     "text": [
      "{0: '\\n', 1: 'a', 2: 'b', 3: 'c', 4: 'd', 5: 'e', 6: 'f', 7: 'g', 8: 'h', 9: 'i', 10: 'j', 11: 'k', 12: 'l', 13: 'm', 14: 'n', 15: 'o', 16: 'p', 17: 'q', 18: 'r', 19: 's', 20: 't', 21: 'u', 22: 'v', 23: 'w', 24: 'x', 25: 'y', 26: 'z'}\n",
      "\n",
      "{'\\n': 0, 'a': 1, 'b': 2, 'c': 3, 'd': 4, 'e': 5, 'f': 6, 'g': 7, 'h': 8, 'i': 9, 'j': 10, 'k': 11, 'l': 12, 'm': 13, 'n': 14, 'o': 15, 'p': 16, 'q': 17, 'r': 18, 's': 19, 't': 20, 'u': 21, 'v': 22, 'w': 23, 'x': 24, 'y': 25, 'z': 26}\n"
     ]
    }
   ],
   "source": [
    "char_to_idx = {ch:i for i,ch in enumerate(chars)}\n",
    "idx_to_char = {i:ch for i,ch in enumerate(chars)}\n",
    "\n",
    "print(idx_to_char)\n",
    "print()\n",
    "print(char_to_idx)"
   ]
  },
  {
   "cell_type": "markdown",
   "id": "b3167b50-736e-4086-8da2-39d35190859e",
   "metadata": {},
   "source": [
    "* `char_to_idx`: In the cell below, you'll create a Python dictionary (i.e., a hash table) to map each character to an index from 0-26.\n",
    "* `idx_to_char`: Then, you'll create a second Python dictionary that maps each index back to the corresponding character. \n",
    "    -  This will help you figure out which index corresponds to which character in the probability distribution output of the softmax layer. "
   ]
  },
  {
   "cell_type": "markdown",
   "id": "a7883219-3b59-49c4-89b5-8abe4ef7695f",
   "metadata": {},
   "source": [
    "# Helper Funcs"
   ]
  },
  {
   "cell_type": "code",
   "execution_count": 6,
   "id": "6081f43c-c954-4b00-b919-a16056cffcc9",
   "metadata": {},
   "outputs": [],
   "source": [
    "def softmax(x):\n",
    "    \"\"\"\n",
    "    x -- shape of (vocab_size, batch_size)\n",
    "    \"\"\"\n",
    "    e_x = np.exp(x - np.max(x))\n",
    "    return e_x / e_x.sum(axis=0)"
   ]
  },
  {
   "cell_type": "code",
   "execution_count": 7,
   "id": "7c1d6ee4-4c3d-4387-a336-362944c4a55e",
   "metadata": {},
   "outputs": [],
   "source": [
    "def clip_gradients(gradients, max_value):\n",
    "    # use deep copy here if we want to compare gradients before and after clipping\n",
    "    gradients = copy.deepcopy(gradients)\n",
    "    \n",
    "    dWaa, dWax, dWya, dba, dby = gradients['dWaa'], gradients['dWax'], gradients['dWya'], gradients['dba'], gradients['dby']\n",
    "    for grad in [dWaa, dWax, dWya, dba, dby]:\n",
    "        np.clip(grad, -max_value, max_value, out=grad)  # out = in_place\n",
    "    \n",
    "    gradients = {\"dWaa\": dWaa, \"dWax\": dWax, \"dWya\": dWya, \"dba\": dba, \"dby\": dby}\n",
    "    return gradients"
   ]
  },
  {
   "cell_type": "markdown",
   "id": "e585efe7-cb67-4c36-9eb4-ca56e54c94ba",
   "metadata": {},
   "source": [
    "# Training"
   ]
  },
  {
   "cell_type": "code",
   "execution_count": 8,
   "id": "6092399d-3664-4049-99b3-bef395bfc332",
   "metadata": {},
   "outputs": [],
   "source": [
    "def initialize_parameters(n_x, n_a, n_y):\n",
    "    # np.random.seed(1)\n",
    "    \n",
    "    Wax = np.random.randn(n_a, n_x) * 0.01 \n",
    "    Waa = np.random.randn(n_a, n_a) * 0.01\n",
    "    Wya = np.random.randn(n_y, n_a) * 0.01\n",
    "    ba = np.zeros((n_a, 1))\n",
    "    by = np.zeros((n_y, 1))\n",
    "    \n",
    "    parameters = {\"Wax\": Wax, \"Waa\": Waa, \"Wya\": Wya, \"ba\": ba,\"by\": by}\n",
    "    return parameters"
   ]
  },
  {
   "cell_type": "code",
   "execution_count": 9,
   "id": "ae7db593-9a08-4c5e-a217-1c10e4754445",
   "metadata": {},
   "outputs": [],
   "source": [
    "def rnn_cell_forward(x, a_prev, parameters):\n",
    "    Waa, Wax, Wya, by, ba = parameters['Waa'], parameters['Wax'], parameters['Wya'], parameters['by'], parameters['ba']\n",
    "    \n",
    "    a_next = np.tanh(np.dot(Waa, a_prev) + np.dot(Wax, x) + ba)\n",
    "    yt_pred = softmax(np.dot(Wya, a_next) + by)\n",
    "    \n",
    "    return a_next, yt_pred"
   ]
  },
  {
   "cell_type": "code",
   "execution_count": 10,
   "id": "6449c886-321b-46da-a5e6-72b021172914",
   "metadata": {},
   "outputs": [],
   "source": [
    "def rnn_forward(X, Y, a0, parameters, vocab_size=27):\n",
    "    \"\"\"\n",
    "    Performs forward propagation for a simple character-level RNN.\n",
    "\n",
    "    Arguments:\n",
    "    ----------\n",
    "    X : list of int representing input character indices for each time step, shape of (Tx, ). Example: [0, 3, 5, 2, ...]\n",
    "    Y : list of int representing target (expected) character indices for each time step, shape of (Tx, )\n",
    "    a0 : initial hidden state, shape of (n_a, 1)\n",
    "    parameters : dictionary containing the model parameters:\n",
    "            Waa -- Hidden-to-hidden weight matrix, shape of (n_a, n_a)\n",
    "            Wax -- Input-to-hidden weight matrix, shape of (n_a, n_x)\n",
    "            Wya -- Hidden-to-output weight matrix, shape of (n_y, n_a)\n",
    "            ba  -- Bias for hidden state, shape of (n_a, 1)\n",
    "            by  -- Bias for output layer, shape of (n_y, 1)\n",
    "    vocab_size : int, optional (default = 27)\n",
    "        Size of the vocabulary (number of unique characters).\n",
    "\n",
    "    Returns:\n",
    "    --------\n",
    "    loss : Total cross-entropy loss for the entire sequence.\n",
    "    cache : Tuple storing values needed for the backward pass: (y_pred, a, x), where:\n",
    "                y_pred -- dict of predicted probabilities at each time step, each y_pred[t] has shape (n_y, 1)\n",
    "                a      -- dict of hidden states, each a[t] has shape (n_a, 1)\n",
    "                x      -- dict of input vectors, each x[t] has shape (n_x, 1)\n",
    "    \"\"\"\n",
    "    \n",
    "    # Store cache\n",
    "    y_pred, a, x = {}, {}, {}\n",
    "\n",
    "    # Store a0 in cache\n",
    "    a[-1] = np.copy(a0)\n",
    "\n",
    "    # Loss acumulated\n",
    "    loss = 0\n",
    "    \n",
    "    for t in range(len(X)):\n",
    "        # Create one-hot vector for the token at timestep t\n",
    "        x[t] = np.zeros((vocab_size, 1))  # (n_x, 1)\n",
    "        if X[t] is not None:  # need if because we will put None at the first index, the first timestep needs input as zero-vector\n",
    "            x[t][X[t]] = 1  # make x[t] one-hot vector, one at position X[t]\n",
    "\n",
    "        # Forward\n",
    "        a[t], y_pred[t] = rnn_cell_forward(x[t], a[t-1], parameters)\n",
    "\n",
    "        # Compute loss\n",
    "        prob_for_correct_token = np.clip(y_pred[t][Y[t], 0], 1e-8, 1.0)  # y_pred[t] returns shape of (n_y, 1)\n",
    "        loss -= np.log(prob_for_correct_token)\n",
    "\n",
    "    cache = (y_pred, a, x)\n",
    "    return loss, cache"
   ]
  },
  {
   "cell_type": "code",
   "execution_count": 11,
   "id": "e9591684-4ef0-4c00-b522-5628f531f76d",
   "metadata": {},
   "outputs": [],
   "source": [
    "def rnn_cell_backward(dz_t, da_next, cache_t):\n",
    "    (a_next, a_prev, xt, parameters) = cache_t\n",
    "    Wax = parameters[\"Wax\"]\n",
    "    Waa = parameters[\"Waa\"]\n",
    "    Wya = parameters[\"Wya\"]\n",
    "    ba = parameters[\"ba\"]\n",
    "    by = parameters[\"by\"]\n",
    "\n",
    "    # Gradients from logits\n",
    "    dWya = np.dot(dz_t, a_next.T)  # (n_y, 1) @ (n_a, 1).T\n",
    "    dby = np.sum(dz_t, axis=1, keepdims=True)  # (n_y, 1)\n",
    "    da_next_from_z = np.dot(Wya.T, dz_t)  # (n_y, n_a).T @ (n_y, 1)\n",
    "\n",
    "    # Total gradient of a_next from logits and the next timestep\n",
    "    da_total = da_next + da_next_from_z  # (n_a, 1)\n",
    "\n",
    "    # Gradient of a_raw through TANH function\n",
    "    dtanh = da_total * (1 - a_next**2)  # (n_a, 1)\n",
    "\n",
    "    # Gradient from a_raw\n",
    "    dWax = np.dot(dtanh, xt.T)  # (n_a, 1) @ (n_x, 1).T\n",
    "    dWaa = np.dot(dtanh, a_prev.T)  # (n_a, 1) @ (n_a, 1).T\n",
    "    dba = np.sum(dtanh, axis=1, keepdims=True)  # (n_a, 1)\n",
    "    dxt = np.dot(Wax.T, dtanh)  # (n_a, n_x).T  @ (n_a, 1)\n",
    "    da_prev = np.dot(Waa.T, dtanh)  # (n_a, n_a).T @ (n_a, 1)\n",
    "\n",
    "    # Dict of gradients\n",
    "    gradients_t = {\n",
    "        \"dxt\": dxt, \n",
    "        \"da_prev\": da_prev, \n",
    "        \"dWax\": dWax, \n",
    "        \"dWaa\": dWaa,\n",
    "        \"dWya\": dWya, \n",
    "        \"dba\": dba, \n",
    "        \"dby\": dby\n",
    "    }\n",
    "    return gradients_t"
   ]
  },
  {
   "cell_type": "code",
   "execution_count": 12,
   "id": "a468b187-e59c-45da-b479-fba3d878107f",
   "metadata": {},
   "outputs": [],
   "source": [
    "def rnn_backward(Y, parameters, cache):\n",
    "    \"\"\"\n",
    "    Backward pass through time for a simple RNN using cached values.\n",
    "\n",
    "    Arguments\n",
    "    ----------\n",
    "    Y : list of int\n",
    "        Sequence of target (expected) character indices, shape (Tx, ).\n",
    "    parameters : dict\n",
    "        Dictionary containing RNN parameters (Waa, Wax, Wya, ba, by)\n",
    "    cache : tuple\n",
    "        Tuple containing (y_pred, a, x) from forward pass\n",
    "\n",
    "    Returns\n",
    "    -------\n",
    "    gradients : dict\n",
    "        Gradients for all parameters\n",
    "    \"\"\"\n",
    "\n",
    "    (y_pred, a, x) = cache\n",
    "    Waa, Wax, Wya, ba, by = parameters['Waa'], parameters['Wax'], parameters['Wya'], parameters['ba'], parameters['by']\n",
    "    \n",
    "    gradients = {\n",
    "        \"dWax\": np.zeros_like(Wax),\n",
    "        \"dWaa\": np.zeros_like(Waa),\n",
    "        \"dWya\": np.zeros_like(Wya),\n",
    "        \"dba\": np.zeros_like(ba),\n",
    "        \"dby\": np.zeros_like(by)\n",
    "    }\n",
    "    \n",
    "    da_next = np.zeros_like((a[-1]))\n",
    "    \n",
    "    # Backprop\n",
    "    for t in reversed(range(len(Y))):\n",
    "        # Compute gradient of Loss with respect to Logits: dz_t = y_pred[t] - one-hot vector at Y[t] position\n",
    "        dz_t = np.copy(y_pred[t])\n",
    "        dz_t[Y[t]] -= 1\n",
    "\n",
    "        # Backprop\n",
    "        cache_t = (a[t], a[t-1], x[t], parameters)\n",
    "        gradients_t = rnn_cell_backward(dz_t, da_next, cache_t)\n",
    "\n",
    "        # Accumulate gradients over timesteps\n",
    "        gradients['dWya'] += gradients_t['dWya']\n",
    "        gradients['dWaa'] += gradients_t['dWaa']\n",
    "        gradients['dWax'] += gradients_t['dWax']\n",
    "        gradients['dba'] += gradients_t['dba']\n",
    "        gradients['dby'] += gradients_t['dby']\n",
    "\n",
    "        # Reset da_next for the backprop\n",
    "        da_next = gradients_t[\"da_prev\"]\n",
    "\n",
    "    return gradients"
   ]
  },
  {
   "cell_type": "code",
   "execution_count": 13,
   "id": "e3005f7c-5676-4a23-9ee4-b06ba29103a3",
   "metadata": {},
   "outputs": [],
   "source": [
    "def update_parameters(parameters, gradients, learning_rate):\n",
    "    parameters['Wax'] += -learning_rate * gradients['dWax']\n",
    "    parameters['Waa'] += -learning_rate * gradients['dWaa']\n",
    "    parameters['Wya'] += -learning_rate * gradients['dWya']\n",
    "    parameters['ba']  += -learning_rate * gradients['dba']\n",
    "    parameters['by']  += -learning_rate * gradients['dby']\n",
    "    # return is optional because we update the original dict\n",
    "    return parameters"
   ]
  },
  {
   "cell_type": "code",
   "execution_count": 14,
   "id": "e0e67fb7-1acb-494c-8fc4-ffedd0d7fefa",
   "metadata": {},
   "outputs": [],
   "source": [
    "def optimize(X, Y, a_prev, parameters, learning_rate=0.01):\n",
    "    \"\"\"\n",
    "    Execute one step of the optimization to train the model.\n",
    "    \n",
    "    Arguments:\n",
    "    X -- list of integers, where each integer is a number that maps to a character in the vocabulary.\n",
    "    Y -- list of integers, exactly the same as X but shifted one index to the left.\n",
    "    a_prev -- previous hidden state.\n",
    "    parameters -- python dictionary containing:\n",
    "                        Wax -- Weight matrix multiplying the input, numpy array of shape (n_a, n_x)\n",
    "                        Waa -- Weight matrix multiplying the hidden state, numpy array of shape (n_a, n_a)\n",
    "                        Wya -- Weight matrix relating the hidden-state to the output, numpy array of shape (n_y, n_a)\n",
    "                        b --  Bias, numpy array of shape (n_a, 1)\n",
    "                        by -- Bias relating the hidden-state to the output, numpy array of shape (n_y, 1)\n",
    "    learning_rate -- learning rate for the model.\n",
    "    \n",
    "    Returns:\n",
    "    loss -- value of the loss function (cross-entropy)\n",
    "    a[len(X)-1] -- the last hidden state, of shape (n_a, 1)\n",
    "    \"\"\"\n",
    "\n",
    "    loss, cache = rnn_forward(X, Y, a_prev, parameters)\n",
    "    gradients = rnn_backward(Y, parameters, cache)\n",
    "\n",
    "    gradients_clipped = clip_gradients(gradients, 5)\n",
    "    update_parameters(parameters, gradients_clipped, learning_rate)\n",
    "\n",
    "    # cache = (y_pred, a, x)\n",
    "    a_last = cache[1][len(X)-1]  # pick the last hidden state to be the a0 for the next batch (stateful RNN)\n",
    "    \n",
    "    return loss, a_last"
   ]
  },
  {
   "cell_type": "markdown",
   "id": "5adbe289-6244-45a5-9436-0cc780241ce2",
   "metadata": {},
   "source": [
    "# Inference"
   ]
  },
  {
   "cell_type": "markdown",
   "id": "6900f5c9-bebb-4479-8f62-8a5218f2fd7e",
   "metadata": {},
   "source": [
    "Now, assume that your model is trained, and you would like to generate new text (characters). The process of generation is explained in the picture below:\n",
    "\n",
    "<img src=\"images/inference_through_sampling.png\" style=\"width:600;height:400px;\">\n",
    "<caption><center><font color='purple'>In this picture, you can assume the model is already trained. You pass in $x^{\\langle 1\\rangle} = \\vec{0}$ at the first time-step, and have the network sample one character at a time. </center></caption>"
   ]
  },
  {
   "cell_type": "code",
   "execution_count": 15,
   "id": "c19bbfe3-37de-4e5d-98bf-245451f86504",
   "metadata": {},
   "outputs": [],
   "source": [
    "def generate_text_from_sampling(parameters, char_to_idx, seed):\n",
    "    \"\"\"\n",
    "    Sample a sequence of characters according to a sequence of probability distributions output of the RNN\n",
    "\n",
    "    Arguments:\n",
    "    parameters -- Python dictionary containing the parameters Waa, Wax, Wya, ba, and by. \n",
    "    char_to_idx -- Python dictionary mapping each character to an index.\n",
    "    seed -- Used for grading purposes. Do not worry about it.\n",
    "\n",
    "    Returns:\n",
    "    indices -- A list of length n containing the index of the sampled characters.\n",
    "    \"\"\"\n",
    "\n",
    "    Waa, Wax, Wya, by, ba = parameters['Waa'], parameters['Wax'], parameters['Wya'], parameters['by'], parameters['ba']\n",
    "    vocab_size = by.shape[0]  # by(n_y, 1)\n",
    "    n_a = ba.shape[0]  # ba(n_a, 1)\n",
    "\n",
    "    x = np.zeros((vocab_size, 1))\n",
    "    a_prev = np.zeros((n_a, 1))\n",
    "\n",
    "    indices = []\n",
    "    counter = 0\n",
    "    newline_idx = char_to_idx['\\n']\n",
    "    idx = -1\n",
    "\n",
    "    # Forward until newline_char or the output length <= 50\n",
    "    while (idx != newline_idx and counter != 50):\n",
    "        # Forward\n",
    "        a = np.tanh(np.dot(Waa, a_prev) + np.dot(Wax, x) + ba)\n",
    "        z = np.dot(Wya, a) + by\n",
    "        y = softmax(z)  # (vocab_size, 1)\n",
    "\n",
    "        # Sample a character for the next input from the probability distribution y\n",
    "        np.random.seed(seed + counter)\n",
    "        idx = np.random.choice(list(range(vocab_size)), p=y.ravel())  \n",
    "        indices.append(idx)\n",
    "\n",
    "        # Update new hidden state & input for the next forward\n",
    "        x = np.zeros((vocab_size, 1))\n",
    "        x[idx] = 1  # one-hot vector\n",
    "        a_prev = a\n",
    "        \n",
    "        # Pseudo-random\n",
    "        seed += 1\n",
    "        counter += 1\n",
    "\n",
    "    if (counter == 50):\n",
    "        indices.append(char_to_idx['\\n'])\n",
    "        \n",
    "    return indices "
   ]
  },
  {
   "cell_type": "markdown",
   "id": "9863c301-eb5e-435c-a9ba-bbd12a350c49",
   "metadata": {},
   "source": [
    "# Model"
   ]
  },
  {
   "cell_type": "code",
   "execution_count": 16,
   "id": "47f51253-9a4f-484e-a556-13d8e36a7d26",
   "metadata": {},
   "outputs": [],
   "source": [
    "def run_model(list_data, list_vocab, epochs=20, learning_rate=0.001):\n",
    "    char_to_idx = {ch:i for i,ch in enumerate(list_vocab)}\n",
    "    idx_to_char = {i:ch for i,ch in enumerate(list_vocab)}\n",
    "    \n",
    "    total_samples = len(list_data)\n",
    "    vocab_size = len(list_vocab)\n",
    "    hidden_size = int(vocab_size*2.5)\n",
    "    \n",
    "    # Init the original dict to store params and update here\n",
    "    parameters = initialize_parameters(vocab_size, hidden_size, vocab_size)\n",
    "\n",
    "    # Loss\n",
    "    losses = []\n",
    "    epoch_losses = []\n",
    "\n",
    "    seed = 0  # for inference\n",
    "    \n",
    "    for i in range(epochs+1):\n",
    "        a_prev = np.zeros((hidden_size, 1))\n",
    "        epoch_loss = 0\n",
    "    \n",
    "        for j in range(total_samples):\n",
    "            text = list_data[j]\n",
    "            char_indices = [char_to_idx[char] for char in text]\n",
    "            \n",
    "            # Prepare input X and label Y\n",
    "            X = [None] + char_indices\n",
    "            Y = X[1:] + [char_to_idx[\"\\n\"]]\n",
    "\n",
    "            # Train in stochastic mode\n",
    "            loss, a_last = optimize(X, Y, a_prev, parameters, learning_rate)\n",
    "            \n",
    "            epoch_loss += loss\n",
    "            a_prev = a_last  # we use the a_last of the previous sample to be the a0 of the next sample\n",
    "            \n",
    "            if j % 300 == 0:\n",
    "                losses.append(loss)\n",
    "                            \n",
    "        epoch_losses.append(epoch_loss/total_samples)\n",
    "        print(f\"LOSS AT EPOCH {i}: {epoch_losses[-1]}\")\n",
    "\n",
    "        if i % 5 == 0:\n",
    "            n_texts_predicted = 5\n",
    "            for k in range(n_texts_predicted):\n",
    "                indices_predicted = generate_text_from_sampling(parameters, char_to_idx, seed)\n",
    "                text_predicted = ''.join(idx_to_char[i] for i in indices_predicted)\n",
    "                text_predicted = text_predicted[0].upper() + text_predicted[1:]\n",
    "                text_predicted = text_predicted.replace(\"\\n\", \".\")\n",
    "                print(f\"Text {k} generated from sampling: {text_predicted}\")\n",
    "                seed += 1\n",
    "\n",
    "        print(\"~\"*100)\n",
    "\n",
    "    return epoch_losses, losses"
   ]
  },
  {
   "cell_type": "code",
   "execution_count": 17,
   "id": "d36cbd40-a46d-4bb3-9cfa-abd9352d0bec",
   "metadata": {},
   "outputs": [
    {
     "name": "stdout",
     "output_type": "stream",
     "text": [
      "['nedcolbertia', 'kitadanisaurus', 'barsboldia', 'quetecsaurus', 'eocarcharia', 'medusaceratops', 'coelosaurus', 'saraikimasoom', 'agrosaurus', 'cryptosaurus', 'apatosaurus', 'koreanosaurus', 'eocursor', 'xingxiulong', 'amtocephale', 'batyrosaurus', 'mirischia', 'rapator', 'camposaurus', 'velociraptor', 'texacephale', 'byronosaurus', 'tochisaurus', 'megalosaurus', 'europasaurus', 'dracorex', 'sinocoelurus', 'kinnareemimus', 'ningyuansaurus', 'bactrosaurus', 'nopcsaspondylus', 'coronosaurus', 'dolichosuchus', 'gavinosaurus', 'spiclypeus', 'europelta', 'lambeosaurus', 'gracilisuchus', 'latirhinus', 'beipiaosaurus', 'shuangmiaosaurus', 'machairoceratops', 'craspedodon', 'rachitrema', 'traukutitan', 'lycorhinus', 'dinodocus', 'amargasaurus', 'seitaad', 'bashunosaurus', 'probactrosaurus', 'hypselospinus', 'pakisaurus', 'qinlingosaurus', 'bravoceratops', 'archaeornithoides', 'nuthetes', 'peishansaurus', 'diracodon', 'gobititan', 'laiyangosaurus', 'gansutitan', 'proa', 'proiguanodon', 'prodeinodon', 'garudimimus', 'diabloceratops', 'lophorhothon', 'giraffatitan', 'omeisaurus', 'diceratops', 'haya', 'aeolosaurus', 'zhanghenglong', 'polacanthoides', 'galeamopus', 'pawpawsaurus', 'agilisaurus', 'jiutaisaurus', 'aachenosaurus', 'fukuisaurus', 'astrophocaudia', 'suzhousaurus', 'goyocephale', 'diplodocus', 'succinodon', 'caenagnathasia', 'kukufeldia', 'apatodon', 'lirainosaurus', 'riojasaurus', 'tapuiasaurus', 'parasaurolophus', 'turiasaurus', 'proplanicoxa', 'proyandusaurus', 'deinonychus', 'styracosaurus', 'microdontosaurus', 'mtotosaurus']\n"
     ]
    }
   ],
   "source": [
    "# np.random.seed(0)\n",
    "texts = copy.deepcopy(list_data)\n",
    "np.random.shuffle(texts)\n",
    "print(texts[:100])"
   ]
  },
  {
   "cell_type": "code",
   "execution_count": 18,
   "id": "8ff17f66-8b9a-46ae-8460-d56fe1e44d1d",
   "metadata": {},
   "outputs": [
    {
     "name": "stdout",
     "output_type": "stream",
     "text": [
      "LOSS AT EPOCH 0: 38.04606048324926\n",
      "Text 0 generated from sampling: Omwuusaocrpcuhsrt.\n",
      "Text 1 generated from sampling: Lod.\n",
      "Text 2 generated from sampling: Lxuusaocrpcuhsrt.\n",
      "Text 3 generated from sampling: Oda.\n",
      "Text 4 generated from sampling: Xuusaocrpcuhsrt.\n",
      "~~~~~~~~~~~~~~~~~~~~~~~~~~~~~~~~~~~~~~~~~~~~~~~~~~~~~~~~~~~~~~~~~~~~~~~~~~~~~~~~~~~~~~~~~~~~~~~~~~~~\n",
      "LOSS AT EPOCH 1: 32.80668546819645\n",
      "~~~~~~~~~~~~~~~~~~~~~~~~~~~~~~~~~~~~~~~~~~~~~~~~~~~~~~~~~~~~~~~~~~~~~~~~~~~~~~~~~~~~~~~~~~~~~~~~~~~~\n",
      "LOSS AT EPOCH 2: 29.26012410854656\n",
      "~~~~~~~~~~~~~~~~~~~~~~~~~~~~~~~~~~~~~~~~~~~~~~~~~~~~~~~~~~~~~~~~~~~~~~~~~~~~~~~~~~~~~~~~~~~~~~~~~~~~\n",
      "LOSS AT EPOCH 3: 28.17900811425505\n",
      "~~~~~~~~~~~~~~~~~~~~~~~~~~~~~~~~~~~~~~~~~~~~~~~~~~~~~~~~~~~~~~~~~~~~~~~~~~~~~~~~~~~~~~~~~~~~~~~~~~~~\n",
      "LOSS AT EPOCH 4: 27.32619751759717\n",
      "~~~~~~~~~~~~~~~~~~~~~~~~~~~~~~~~~~~~~~~~~~~~~~~~~~~~~~~~~~~~~~~~~~~~~~~~~~~~~~~~~~~~~~~~~~~~~~~~~~~~\n",
      "LOSS AT EPOCH 5: 26.530800148758214\n",
      "Text 0 generated from sampling: A.\n",
      "Text 1 generated from sampling: Tosaurus.\n",
      "Text 2 generated from sampling: A.\n",
      "Text 3 generated from sampling: Toiolos.\n",
      "Text 4 generated from sampling: .\n",
      "~~~~~~~~~~~~~~~~~~~~~~~~~~~~~~~~~~~~~~~~~~~~~~~~~~~~~~~~~~~~~~~~~~~~~~~~~~~~~~~~~~~~~~~~~~~~~~~~~~~~\n",
      "LOSS AT EPOCH 6: 26.000994151006278\n",
      "~~~~~~~~~~~~~~~~~~~~~~~~~~~~~~~~~~~~~~~~~~~~~~~~~~~~~~~~~~~~~~~~~~~~~~~~~~~~~~~~~~~~~~~~~~~~~~~~~~~~\n",
      "LOSS AT EPOCH 7: 25.590667301614047\n",
      "~~~~~~~~~~~~~~~~~~~~~~~~~~~~~~~~~~~~~~~~~~~~~~~~~~~~~~~~~~~~~~~~~~~~~~~~~~~~~~~~~~~~~~~~~~~~~~~~~~~~\n",
      "LOSS AT EPOCH 8: 25.240991642063122\n",
      "~~~~~~~~~~~~~~~~~~~~~~~~~~~~~~~~~~~~~~~~~~~~~~~~~~~~~~~~~~~~~~~~~~~~~~~~~~~~~~~~~~~~~~~~~~~~~~~~~~~~\n",
      "LOSS AT EPOCH 9: 24.92676943268312\n",
      "~~~~~~~~~~~~~~~~~~~~~~~~~~~~~~~~~~~~~~~~~~~~~~~~~~~~~~~~~~~~~~~~~~~~~~~~~~~~~~~~~~~~~~~~~~~~~~~~~~~~\n",
      "LOSS AT EPOCH 10: 24.645156356886233\n",
      "Text 0 generated from sampling: S.\n",
      "Text 1 generated from sampling: Auscdantis.\n",
      "Text 2 generated from sampling: Ancipdurusacrrchos.\n",
      "Text 3 generated from sampling: Stedaosaurus.\n",
      "Text 4 generated from sampling: Lcholvhosocrus.\n",
      "~~~~~~~~~~~~~~~~~~~~~~~~~~~~~~~~~~~~~~~~~~~~~~~~~~~~~~~~~~~~~~~~~~~~~~~~~~~~~~~~~~~~~~~~~~~~~~~~~~~~\n",
      "LOSS AT EPOCH 11: 24.39129079048604\n",
      "~~~~~~~~~~~~~~~~~~~~~~~~~~~~~~~~~~~~~~~~~~~~~~~~~~~~~~~~~~~~~~~~~~~~~~~~~~~~~~~~~~~~~~~~~~~~~~~~~~~~\n",
      "LOSS AT EPOCH 12: 24.159389106495528\n",
      "~~~~~~~~~~~~~~~~~~~~~~~~~~~~~~~~~~~~~~~~~~~~~~~~~~~~~~~~~~~~~~~~~~~~~~~~~~~~~~~~~~~~~~~~~~~~~~~~~~~~\n",
      "LOSS AT EPOCH 13: 23.935355163762665\n",
      "~~~~~~~~~~~~~~~~~~~~~~~~~~~~~~~~~~~~~~~~~~~~~~~~~~~~~~~~~~~~~~~~~~~~~~~~~~~~~~~~~~~~~~~~~~~~~~~~~~~~\n",
      "LOSS AT EPOCH 14: 23.717251861201092\n",
      "~~~~~~~~~~~~~~~~~~~~~~~~~~~~~~~~~~~~~~~~~~~~~~~~~~~~~~~~~~~~~~~~~~~~~~~~~~~~~~~~~~~~~~~~~~~~~~~~~~~~\n",
      "LOSS AT EPOCH 15: 23.513491781264815\n",
      "Text 0 generated from sampling: Sacarsaurus.\n",
      "Text 1 generated from sampling: Chictosaurus.\n",
      "Text 2 generated from sampling: Ecaosaurus.\n",
      "Text 3 generated from sampling: Pictosaurus.\n",
      "Text 4 generated from sampling: Aantisaurus.\n",
      "~~~~~~~~~~~~~~~~~~~~~~~~~~~~~~~~~~~~~~~~~~~~~~~~~~~~~~~~~~~~~~~~~~~~~~~~~~~~~~~~~~~~~~~~~~~~~~~~~~~~\n",
      "LOSS AT EPOCH 16: 23.324645118217404\n",
      "~~~~~~~~~~~~~~~~~~~~~~~~~~~~~~~~~~~~~~~~~~~~~~~~~~~~~~~~~~~~~~~~~~~~~~~~~~~~~~~~~~~~~~~~~~~~~~~~~~~~\n",
      "LOSS AT EPOCH 17: 23.14678862711133\n",
      "~~~~~~~~~~~~~~~~~~~~~~~~~~~~~~~~~~~~~~~~~~~~~~~~~~~~~~~~~~~~~~~~~~~~~~~~~~~~~~~~~~~~~~~~~~~~~~~~~~~~\n",
      "LOSS AT EPOCH 18: 22.974579107745623\n",
      "~~~~~~~~~~~~~~~~~~~~~~~~~~~~~~~~~~~~~~~~~~~~~~~~~~~~~~~~~~~~~~~~~~~~~~~~~~~~~~~~~~~~~~~~~~~~~~~~~~~~\n",
      "LOSS AT EPOCH 19: 22.807308092583856\n",
      "~~~~~~~~~~~~~~~~~~~~~~~~~~~~~~~~~~~~~~~~~~~~~~~~~~~~~~~~~~~~~~~~~~~~~~~~~~~~~~~~~~~~~~~~~~~~~~~~~~~~\n",
      "LOSS AT EPOCH 20: 22.646759902083758\n",
      "Text 0 generated from sampling: Nctisaurus.\n",
      "Text 1 generated from sampling: Anthtimnvuraxamosaurus.\n",
      "Text 2 generated from sampling: Crerosaurus.\n",
      "Text 3 generated from sampling: Ltesatrus.\n",
      "Text 4 generated from sampling: Wcmosaurus.\n",
      "~~~~~~~~~~~~~~~~~~~~~~~~~~~~~~~~~~~~~~~~~~~~~~~~~~~~~~~~~~~~~~~~~~~~~~~~~~~~~~~~~~~~~~~~~~~~~~~~~~~~\n",
      "LOSS AT EPOCH 21: 22.493858190324143\n",
      "~~~~~~~~~~~~~~~~~~~~~~~~~~~~~~~~~~~~~~~~~~~~~~~~~~~~~~~~~~~~~~~~~~~~~~~~~~~~~~~~~~~~~~~~~~~~~~~~~~~~\n",
      "LOSS AT EPOCH 22: 22.34980957647267\n",
      "~~~~~~~~~~~~~~~~~~~~~~~~~~~~~~~~~~~~~~~~~~~~~~~~~~~~~~~~~~~~~~~~~~~~~~~~~~~~~~~~~~~~~~~~~~~~~~~~~~~~\n",
      "LOSS AT EPOCH 23: 22.216659979680482\n",
      "~~~~~~~~~~~~~~~~~~~~~~~~~~~~~~~~~~~~~~~~~~~~~~~~~~~~~~~~~~~~~~~~~~~~~~~~~~~~~~~~~~~~~~~~~~~~~~~~~~~~\n",
      "LOSS AT EPOCH 24: 22.094573561830956\n",
      "~~~~~~~~~~~~~~~~~~~~~~~~~~~~~~~~~~~~~~~~~~~~~~~~~~~~~~~~~~~~~~~~~~~~~~~~~~~~~~~~~~~~~~~~~~~~~~~~~~~~\n",
      "LOSS AT EPOCH 25: 21.980586579228795\n",
      "Text 0 generated from sampling: Shreirus.\n",
      "Text 1 generated from sampling: Fposaurus.\n",
      "Text 2 generated from sampling: Isbchyngcvelosaurus.\n",
      "Text 3 generated from sampling: Sosaurus.\n",
      "Text 4 generated from sampling: Sdemuregya.\n",
      "~~~~~~~~~~~~~~~~~~~~~~~~~~~~~~~~~~~~~~~~~~~~~~~~~~~~~~~~~~~~~~~~~~~~~~~~~~~~~~~~~~~~~~~~~~~~~~~~~~~~\n",
      "LOSS AT EPOCH 26: 21.871067400095594\n",
      "~~~~~~~~~~~~~~~~~~~~~~~~~~~~~~~~~~~~~~~~~~~~~~~~~~~~~~~~~~~~~~~~~~~~~~~~~~~~~~~~~~~~~~~~~~~~~~~~~~~~\n",
      "LOSS AT EPOCH 27: 21.764312729734552\n",
      "~~~~~~~~~~~~~~~~~~~~~~~~~~~~~~~~~~~~~~~~~~~~~~~~~~~~~~~~~~~~~~~~~~~~~~~~~~~~~~~~~~~~~~~~~~~~~~~~~~~~\n",
      "LOSS AT EPOCH 28: 21.660562667023594\n",
      "~~~~~~~~~~~~~~~~~~~~~~~~~~~~~~~~~~~~~~~~~~~~~~~~~~~~~~~~~~~~~~~~~~~~~~~~~~~~~~~~~~~~~~~~~~~~~~~~~~~~\n",
      "LOSS AT EPOCH 29: 21.560004783156415\n",
      "~~~~~~~~~~~~~~~~~~~~~~~~~~~~~~~~~~~~~~~~~~~~~~~~~~~~~~~~~~~~~~~~~~~~~~~~~~~~~~~~~~~~~~~~~~~~~~~~~~~~\n",
      "LOSS AT EPOCH 30: 21.46235396060911\n",
      "Text 0 generated from sampling: Prasaurus.\n",
      "Text 1 generated from sampling: Danxonaycerucausia.\n",
      "Text 2 generated from sampling: Sauroptoceraxngalaetena.\n",
      "Text 3 generated from sampling: Chyphavenitagsoraplisaurus.\n",
      "Text 4 generated from sampling: Ardonsmansevhechaluphia.\n",
      "~~~~~~~~~~~~~~~~~~~~~~~~~~~~~~~~~~~~~~~~~~~~~~~~~~~~~~~~~~~~~~~~~~~~~~~~~~~~~~~~~~~~~~~~~~~~~~~~~~~~\n",
      "LOSS AT EPOCH 31: 21.368211248129153\n",
      "~~~~~~~~~~~~~~~~~~~~~~~~~~~~~~~~~~~~~~~~~~~~~~~~~~~~~~~~~~~~~~~~~~~~~~~~~~~~~~~~~~~~~~~~~~~~~~~~~~~~\n",
      "LOSS AT EPOCH 32: 21.275575630124195\n",
      "~~~~~~~~~~~~~~~~~~~~~~~~~~~~~~~~~~~~~~~~~~~~~~~~~~~~~~~~~~~~~~~~~~~~~~~~~~~~~~~~~~~~~~~~~~~~~~~~~~~~\n",
      "LOSS AT EPOCH 33: 21.18313035296641\n",
      "~~~~~~~~~~~~~~~~~~~~~~~~~~~~~~~~~~~~~~~~~~~~~~~~~~~~~~~~~~~~~~~~~~~~~~~~~~~~~~~~~~~~~~~~~~~~~~~~~~~~\n",
      "LOSS AT EPOCH 34: 21.08752694101577\n",
      "~~~~~~~~~~~~~~~~~~~~~~~~~~~~~~~~~~~~~~~~~~~~~~~~~~~~~~~~~~~~~~~~~~~~~~~~~~~~~~~~~~~~~~~~~~~~~~~~~~~~\n",
      "LOSS AT EPOCH 35: 20.9954019534721\n",
      "Text 0 generated from sampling: Kuneewadon.\n",
      "Text 1 generated from sampling: Shbersaurus.\n",
      "Text 2 generated from sampling: Theex.\n",
      "Text 3 generated from sampling: Helrochus.\n",
      "Text 4 generated from sampling: Macuelosaurus.\n",
      "~~~~~~~~~~~~~~~~~~~~~~~~~~~~~~~~~~~~~~~~~~~~~~~~~~~~~~~~~~~~~~~~~~~~~~~~~~~~~~~~~~~~~~~~~~~~~~~~~~~~\n",
      "LOSS AT EPOCH 36: 20.908887194683818\n",
      "~~~~~~~~~~~~~~~~~~~~~~~~~~~~~~~~~~~~~~~~~~~~~~~~~~~~~~~~~~~~~~~~~~~~~~~~~~~~~~~~~~~~~~~~~~~~~~~~~~~~\n",
      "LOSS AT EPOCH 37: 20.83017253761916\n",
      "~~~~~~~~~~~~~~~~~~~~~~~~~~~~~~~~~~~~~~~~~~~~~~~~~~~~~~~~~~~~~~~~~~~~~~~~~~~~~~~~~~~~~~~~~~~~~~~~~~~~\n",
      "LOSS AT EPOCH 38: 20.751453725854688\n",
      "~~~~~~~~~~~~~~~~~~~~~~~~~~~~~~~~~~~~~~~~~~~~~~~~~~~~~~~~~~~~~~~~~~~~~~~~~~~~~~~~~~~~~~~~~~~~~~~~~~~~\n",
      "LOSS AT EPOCH 39: 20.685211995948798\n",
      "~~~~~~~~~~~~~~~~~~~~~~~~~~~~~~~~~~~~~~~~~~~~~~~~~~~~~~~~~~~~~~~~~~~~~~~~~~~~~~~~~~~~~~~~~~~~~~~~~~~~\n",
      "LOSS AT EPOCH 40: 20.624073047082625\n",
      "Text 0 generated from sampling: Heroceratops.\n",
      "Text 1 generated from sampling: Ccyelosaurus.\n",
      "Text 2 generated from sampling: Hrobosaurus.\n",
      "Text 3 generated from sampling: Axahosaurus.\n",
      "Text 4 generated from sampling: Stansaurus.\n",
      "~~~~~~~~~~~~~~~~~~~~~~~~~~~~~~~~~~~~~~~~~~~~~~~~~~~~~~~~~~~~~~~~~~~~~~~~~~~~~~~~~~~~~~~~~~~~~~~~~~~~\n",
      "LOSS AT EPOCH 41: 20.562362144317007\n",
      "~~~~~~~~~~~~~~~~~~~~~~~~~~~~~~~~~~~~~~~~~~~~~~~~~~~~~~~~~~~~~~~~~~~~~~~~~~~~~~~~~~~~~~~~~~~~~~~~~~~~\n",
      "LOSS AT EPOCH 42: 20.50297807567355\n",
      "~~~~~~~~~~~~~~~~~~~~~~~~~~~~~~~~~~~~~~~~~~~~~~~~~~~~~~~~~~~~~~~~~~~~~~~~~~~~~~~~~~~~~~~~~~~~~~~~~~~~\n",
      "LOSS AT EPOCH 43: 20.446910351239527\n",
      "~~~~~~~~~~~~~~~~~~~~~~~~~~~~~~~~~~~~~~~~~~~~~~~~~~~~~~~~~~~~~~~~~~~~~~~~~~~~~~~~~~~~~~~~~~~~~~~~~~~~\n",
      "LOSS AT EPOCH 44: 20.38497539368775\n",
      "~~~~~~~~~~~~~~~~~~~~~~~~~~~~~~~~~~~~~~~~~~~~~~~~~~~~~~~~~~~~~~~~~~~~~~~~~~~~~~~~~~~~~~~~~~~~~~~~~~~~\n",
      "LOSS AT EPOCH 45: 20.31174388293429\n",
      "Text 0 generated from sampling: Zalosaurus.\n",
      "Text 1 generated from sampling: Sanshyliamaeur.\n",
      "Text 2 generated from sampling: Alosaurus.\n",
      "Text 3 generated from sampling: Amphymi.\n",
      "Text 4 generated from sampling: Ersalrus.\n",
      "~~~~~~~~~~~~~~~~~~~~~~~~~~~~~~~~~~~~~~~~~~~~~~~~~~~~~~~~~~~~~~~~~~~~~~~~~~~~~~~~~~~~~~~~~~~~~~~~~~~~\n",
      "LOSS AT EPOCH 46: 20.27982742926226\n",
      "~~~~~~~~~~~~~~~~~~~~~~~~~~~~~~~~~~~~~~~~~~~~~~~~~~~~~~~~~~~~~~~~~~~~~~~~~~~~~~~~~~~~~~~~~~~~~~~~~~~~\n",
      "LOSS AT EPOCH 47: 20.219064896972725\n",
      "~~~~~~~~~~~~~~~~~~~~~~~~~~~~~~~~~~~~~~~~~~~~~~~~~~~~~~~~~~~~~~~~~~~~~~~~~~~~~~~~~~~~~~~~~~~~~~~~~~~~\n",
      "LOSS AT EPOCH 48: 20.192887964135732\n",
      "~~~~~~~~~~~~~~~~~~~~~~~~~~~~~~~~~~~~~~~~~~~~~~~~~~~~~~~~~~~~~~~~~~~~~~~~~~~~~~~~~~~~~~~~~~~~~~~~~~~~\n",
      "LOSS AT EPOCH 49: 20.201913475859403\n",
      "~~~~~~~~~~~~~~~~~~~~~~~~~~~~~~~~~~~~~~~~~~~~~~~~~~~~~~~~~~~~~~~~~~~~~~~~~~~~~~~~~~~~~~~~~~~~~~~~~~~~\n",
      "LOSS AT EPOCH 50: 20.097866090649354\n",
      "Text 0 generated from sampling: Lonysaurus.\n",
      "Text 1 generated from sampling: Rocausaurus.\n",
      "Text 2 generated from sampling: Siumechalus.\n",
      "Text 3 generated from sampling: Sacrus.\n",
      "Text 4 generated from sampling: Hyleancfus.\n",
      "~~~~~~~~~~~~~~~~~~~~~~~~~~~~~~~~~~~~~~~~~~~~~~~~~~~~~~~~~~~~~~~~~~~~~~~~~~~~~~~~~~~~~~~~~~~~~~~~~~~~\n"
     ]
    }
   ],
   "source": [
    "epoch_losses, losses = run_model(texts, chars, epochs=50, learning_rate=0.002)"
   ]
  },
  {
   "cell_type": "code",
   "execution_count": 19,
   "id": "bf31d9e7-852e-4921-93b8-09e5d6d6afa4",
   "metadata": {},
   "outputs": [
    {
     "data": {
      "image/png": "[encoded data removed]",
      "text/plain": [
       "<Figure size 1200x500 with 2 Axes>"
      ]
     },
     "metadata": {},
     "output_type": "display_data"
    }
   ],
   "source": [
    "plt.figure(figsize=(12, 5))\n",
    "\n",
    "# Loss every 100 samples\n",
    "plt.subplot(1, 2, 1)\n",
    "plt.plot(losses)\n",
    "plt.title(\"Loss per sample\")\n",
    "plt.xlabel(\"Sample (every 300 steps)\")\n",
    "plt.ylabel(\"Loss\")\n",
    "\n",
    "# Average loss per epoch\n",
    "plt.subplot(1, 2, 2)\n",
    "plt.plot(epoch_losses)\n",
    "plt.title(\"Average loss per epoch\")\n",
    "plt.xlabel(\"Epoch\")\n",
    "plt.ylabel(\"Loss\")\n",
    "\n",
    "plt.show()"
   ]
  },
  {
   "cell_type": "code",
   "execution_count": 20,
   "id": "1416706b-b68a-4312-a790-e4e4cdb2f58f",
   "metadata": {},
   "outputs": [],
   "source": [
    "from difflib import SequenceMatcher\n",
    "\n",
    "def find_similar_names(generated_name, target_names=texts, top_k=3):\n",
    "    similarities = []\n",
    "    for t in texts:\n",
    "        sim = SequenceMatcher(None, generated_name.lower(), t.lower()).ratio()\n",
    "        sim_rounded = float(f\"{sim:.4f}\")\n",
    "        similarities.append((t, sim_rounded))\n",
    "        \n",
    "    similarities.sort(key=lambda x: x[1], reverse=True)\n",
    "    return similarities[:top_k]"
   ]
  },
  {
   "cell_type": "code",
   "execution_count": 24,
   "id": "631bc4cc-8da4-44b1-b7c1-b4753a40e42c",
   "metadata": {},
   "outputs": [
    {
     "data": {
      "text/plain": [
       "[('longosaurus', 0.8571), ('loncosaurus', 0.8571), ('laosaurus', 0.8421)]"
      ]
     },
     "execution_count": 24,
     "metadata": {},
     "output_type": "execute_result"
    }
   ],
   "source": [
    "find_similar_names(\"Lonysaurus\")"
   ]
  },
  {
   "cell_type": "code",
   "execution_count": 25,
   "id": "79833a84-110e-42f6-97b1-4cb654100efd",
   "metadata": {},
   "outputs": [
    {
     "data": {
      "text/plain": [
       "[('rocasaurus', 0.9524), ('arcusaurus', 0.8571), ('riojasaurus', 0.8182)]"
      ]
     },
     "execution_count": 25,
     "metadata": {},
     "output_type": "execute_result"
    }
   ],
   "source": [
    "find_similar_names(\"Rocausaurus\")"
   ]
  },
  {
   "cell_type": "code",
   "execution_count": 26,
   "id": "0bf2b5c9-6ab9-42d7-9076-fc64fa05e5a0",
   "metadata": {},
   "outputs": [
    {
     "data": {
      "text/plain": [
       "[('stereocephalus', 0.64), ('suchosaurus', 0.6364), ('spinosuchus', 0.6364)]"
      ]
     },
     "execution_count": 26,
     "metadata": {},
     "output_type": "execute_result"
    }
   ],
   "source": [
    "find_similar_names(\"Siumechalus\")"
   ]
  },
  {
   "cell_type": "code",
   "execution_count": null,
   "id": "1c303304-6d9d-4d95-a10e-2f68f41d0c6e",
   "metadata": {},
   "outputs": [],
   "source": []
  }
 ],
 "metadata": {
  "kernelspec": {
   "display_name": "Python 3 (ipykernel)",
   "language": "python",
   "name": "python3"
  },
  "language_info": {
   "codemirror_mode": {
    "name": "ipython",
    "version": 3
   },
   "file_extension": ".py",
   "mimetype": "text/x-python",
   "name": "python",
   "nbconvert_exporter": "python",
   "pygments_lexer": "ipython3",
   "version": "3.11.7"
  }
 },
 "nbformat": 4,
 "nbformat_minor": 5
}
